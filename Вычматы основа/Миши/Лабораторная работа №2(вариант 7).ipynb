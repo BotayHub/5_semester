{
 "cells": [
  {
   "cell_type": "code",
   "execution_count": 2,
   "metadata": {},
   "outputs": [],
   "source": [
    "import numpy as np\n",
    "import math as mh\n",
    "import matplotlib.pyplot as plt\n",
    "from sympy import diff\n",
    "from mpl_toolkits.mplot3d import Axes3D\n",
    "\n",
    "%matplotlib inline"
   ]
  },
  {
   "cell_type": "markdown",
   "metadata": {},
   "source": [
    "выпишем заданные значения:"
   ]
  },
  {
   "cell_type": "code",
   "execution_count": 3,
   "metadata": {},
   "outputs": [],
   "source": [
    "x0 = 0.52360\n",
    "x1 = 0.87267\n",
    "x2 = 1.22173\n",
    "x3 = 1.57080\n",
    "x4 = 1.91986\n",
    "x5 = 2.26893"
   ]
  },
  {
   "cell_type": "code",
   "execution_count": 4,
   "metadata": {},
   "outputs": [],
   "source": [
    "y0 = 14*(10**(-6))\n",
    "y1 = 0.00037\n",
    "y2 = 0.00352\n",
    "y3 = 0.01971\n",
    "y4 = 0.08033\n",
    "y5 = 0.26380"
   ]
  },
  {
   "cell_type": "code",
   "execution_count": 5,
   "metadata": {},
   "outputs": [
    {
     "data": {
      "image/png": "[encoded data removed]",
      "text/plain": [
       "<Figure size 432x288 with 1 Axes>"
      ]
     },
     "metadata": {
      "needs_background": "light"
     },
     "output_type": "display_data"
    }
   ],
   "source": [
    "plt.figure()\n",
    "plt.plot([x0, x1, x2, x3, x4, x5], [y0, y1, y2, y3, y4, y5])\n",
    "plt.show()"
   ]
  },
  {
   "cell_type": "markdown",
   "metadata": {},
   "source": [
    "Найдем алгебраический интерполяционный многочлен в форме Ньютона:"
   ]
  },
  {
   "cell_type": "code",
   "execution_count": 6,
   "metadata": {},
   "outputs": [],
   "source": [
    "b = []\n",
    "b0 = y0\n",
    "b.append(b0)\n",
    "b1 = (y1-y0)/(x1-x0)\n",
    "b.append(b1)\n",
    "b2 = ((y2-y1)/(x2-x1)-(y1-y0)/(x1-x0))/(x2-x0)\n",
    "b.append(b2)\n",
    "b3 = ((((y3-y2)/(x3-x2)-(y2-y1)/(x2-x1))/(x3-x1)) - (((y2-y1)/(x2-x1)-(y1-y0)/(x1-x0))/(x2-x0)))/(x3-x0)\n",
    "b.append(b3)\n",
    "b4 = (((((y4-y3)/(x4-x3)-(y3-y2)/(x3-x2))/(x4-x2)) - (((y3-y2)/(x3-x2)-(y2-y1)/(x2-x1))/(x3-x1)))/(x4-x1) - ((((y3-y2)/(x3-x2)-(y2-y1)/(x2-x1))/(x3-x1)) - (((y2-y1)/(x2-x1)-(y1-y0)/(x1-x0))/(x2-x0)))/(x3-x0))/(x4-x0)\n",
    "b.append(b4)\n",
    "b5 = ((((((y5-y4)/(x5-x4)-(y4-y3)/(x4-x3))/(x5-x3)) - (((y4-y3)/(x4-x3)-(y3-y2)/(x3-x2))/(x4-x2)))/(x5-x2) - ((((y4-y3)/(x4-x3)-(y3-y2)/(x3-x2))/(x4-x2)) - (((y3-y2)/(x3-x2)-(y2-y1)/(x2-x1))/(x3-x1)))/(x4-x1))/(x5-x1) - (((((y4-y3)/(x4-x3)-(y3-y2)/(x3-x2))/(x4-x2)) - (((y3-y2)/(x3-x2)-(y2-y1)/(x2-x1))/(x3-x1)))/(x4-x1) - ((((y3-y2)/(x3-x2)-(y2-y1)/(x2-x1))/(x3-x1)) - (((y2-y1)/(x2-x1)-(y1-y0)/(x1-x0))/(x2-x0)))/(x3-x0))/(x4-x0))/(x5-x0)\n",
    "b.append(b5)"
   ]
  },
  {
   "cell_type": "code",
   "execution_count": 7,
   "metadata": {},
   "outputs": [
    {
     "data": {
      "text/plain": [
       "[1.4e-05,\n",
       " 0.0010198527515971009,\n",
       " 0.011465463121975645,\n",
       " 0.04014839986102394,\n",
       " 0.059345771399216964,\n",
       " 0.0416111727326075]"
      ]
     },
     "execution_count": 7,
     "metadata": {},
     "output_type": "execute_result"
    }
   ],
   "source": [
    "b"
   ]
  },
  {
   "cell_type": "markdown",
   "metadata": {},
   "source": [
    "Получили интерполяционный многочлен: $P_{N} = b_{0} + b_{1}(x-x_{0}) + b_{2}(x-x_{0})(x-x_{1}) + b_{3}(x-x_{0})(x-x_{1})(x-x_{2}) + b_{4}(x-x_{0})(x-x_{1})(x-x_{2})(x-x_{3}) + b_{5}(x-x_{0})(x-x_{1})(x-x_{2})(x-x_{3})(x-x_{4})$\n",
    "Построим элементы сплайна для отрезоков, указанных в условии. $S_{3i}(x) = (a_{0})_{i} + (a_{1})_{i}x_{i} + (a_{2})_{i}x^{2}_{i} + (a_{3})_{i}x^{3}_{i} $"
   ]
  },
  {
   "cell_type": "markdown",
   "metadata": {},
   "source": [
    "Чтобы найти коэфф $a_{i}$ необходимо посчитать производную от интерполяционного многочлена $P_{N}$\n",
    "\n",
    "Соответственно: \n",
    "\n",
    "$P'_{N} = b_{1} + b_{2}(2x-x_{0}-x_{1}) + b_{3}(3x^{2}-2xx_{2}-2xx_{1}-2xx_{0}+x_{1}x_{2}+x_{0}x_{2}-x_{0}x_{1}) + ...$"
   ]
  },
  {
   "cell_type": "code",
   "execution_count": 8,
   "metadata": {},
   "outputs": [],
   "source": [
    "def pder(b1, b2, b3, b4, b5, x0, x1, x2, x3, x4, x):\n",
    "    pd = b1 + b2*(x-x0)+b2*(x-x1) + b3*(x-x1)*(x-x2) + b3*(x-x0)*(x-x2) + b3*(x-x0)*(x-x1) + b4*(x-x1)*(x-x2)*(x-x3) + b4*(x-x0)*(x-x2)*(x-x3) + b4*(x-x0)*(x-x1)*(x-x3) + b4*(x-x0)*(x-x1)*(x-x2) + b5*(x-x1)*(x-x2)*(x-x3)*(x-x4) + b5*(x-x0)*(x-x2)*(x-x3)*(x-x4) + b5*(x-x0)*(x-x1)*(x-x3)*(x-x4) + b5*(x-x0)*(x-x1)*(x-x2)*(x-x4) + b5*(x-x0)*(x-x1)*(x-x2)*(x-x3)\n",
    "    return pd"
   ]
  },
  {
   "cell_type": "code",
   "execution_count": 9,
   "metadata": {},
   "outputs": [
    {
     "data": {
      "text/plain": [
       "[0.006483702441363905,\n",
       " 0.0014717161916508715,\n",
       " 0.02023300756939148,\n",
       " 0.08628099131074497,\n",
       " 0.29725573644159187,\n",
       " 0.8249521574564569]"
      ]
     },
     "execution_count": 9,
     "metadata": {},
     "output_type": "execute_result"
    }
   ],
   "source": [
    "pders = []\n",
    "pd0 = pder(b1, b2, b3, b4, b5, x0, x1, x2, x3, x4, x0)\n",
    "pders.append(pd0)\n",
    "pd1 = pder(b1, b2, b3, b4, b5, x0, x1, x2, x3, x4, x1)\n",
    "pders.append(pd1)\n",
    "pd2 = pder(b1, b2, b3, b4, b5, x0, x1, x2, x3, x4, x2)\n",
    "pders.append(pd2)\n",
    "pd3 = pder(b1, b2, b3, b4, b5, x0, x1, x2, x3, x4, x3)\n",
    "pders.append(pd3)\n",
    "pd4 = pder(b1, b2, b3, b4, b5, x0, x1, x2, x3, x4, x4)\n",
    "pders.append(pd4)\n",
    "pd5 = pder(b1, b2, b3, b4, b5, x0, x1, x2, x3, x4, x5)\n",
    "pders.append(pd5)\n",
    "pders"
   ]
  },
  {
   "cell_type": "markdown",
   "metadata": {},
   "source": [
    "Найдем коэффициенты сплайна:"
   ]
  },
  {
   "cell_type": "code",
   "execution_count": 10,
   "metadata": {},
   "outputs": [],
   "source": [
    "koeffs0 = []\n",
    "koeffs1 = []\n",
    "koeffs2 = []\n",
    "koeffs3 = []\n",
    "x = [x0, x1, x2, x3, x4, x5]\n",
    "y = [y0, y1, y2, y3, y4, y5]\n",
    "\n",
    "for i in range(5):\n",
    "    a0 = ((-pders[i+1]*((x[i])**2)*(x[i+1])*(x[i+1] - x[i])+(y[i+1])*((x[i])**2)*(3*x[i+1]-x[i]))/((x[i+1]-x[i])**3) + (y[i]*(x[i+1]**2)*(x[i+1]-3*x[i])-pders[i]*x[i]*(x[i+1]**2)*(x[i+1]-x[i]))/((x[i+1]-x[i])**3))\n",
    "    koeffs0.append(a0)\n",
    "\n",
    "for i in range(5):\n",
    "    a1 = (pders[i+1]*x[i]*(2*x[i+1]+x[i])*(x[i+1]-x[i])-6*(y[i+1]-y[i])*x[i]*x[i+1])/((x[i+1]-x[i])**3) + (pders[i]*x[i+1]*(x[i+1]+2*x[i])*(x[i+1]-x[i]))/((x[i+1]-x[i])**3)\n",
    "    koeffs1.append(a1)\n",
    "    \n",
    "for i in range(5):\n",
    "    a2 = (-pders[i+1]*(x[i+1]-x[i])*(x[i+1]+2*x[i])+3*(y[i+1]-y[i])*(x[i+1]+x[i]))/((x[i+1]-x[i])**3) - (pders[i]*(x[i+1]-x[i])*(x[i]+2*x[i+1]))/((x[i+1]-x[i])**3)\n",
    "    koeffs2.append(a2)\n",
    "    \n",
    "for i in range(5):\n",
    "    a3 = (pders[i+1]*(x[i+1]-x[i])-2*(y[i+1]-y[i])+pders[i]*(x[i+1]-x[i]))/((x[i+1]-x[i])**3)\n",
    "    koeffs3.append(a3)\n"
   ]
  },
  {
   "cell_type": "markdown",
   "metadata": {},
   "source": [
    "Интерполяционный многочлен и сплайн построены, сделаем теперь так, чтобы их можно было наглядно рассмотреть"
   ]
  },
  {
   "cell_type": "code",
   "execution_count": 11,
   "metadata": {},
   "outputs": [
    {
     "name": "stdout",
     "output_type": "stream",
     "text": [
      "0.0143317171055653\n"
     ]
    }
   ],
   "source": [
    "#вывод сплайна в произвольной точке\n",
    "x = 1.5 #произвольная точка от х0 до х5\n",
    "if (x >= x0) and (x < x1):\n",
    "    s = koeffs0[0] + koeffs1[0]*x + koeffs2[0]*(x**2) + koeffs3[0]*(x**3)\n",
    "if (x >= x1) and (x < x2):\n",
    "    s = koeffs0[1] + koeffs1[1]*x + koeffs2[1]*(x**2) + koeffs3[1]*(x**3)    \n",
    "if (x >= x2) and (x < x3):\n",
    "    s = koeffs0[2] + koeffs1[2]*x + koeffs2[2]*(x**2) + koeffs3[2]*(x**3)    \n",
    "if (x >= x3) and (x < x4):\n",
    "    s = koeffs0[3] + koeffs1[3]*x + koeffs2[3]*(x**2) + koeffs3[3]*(x**3)    \n",
    "if (x >= x4) and (x <= x5):\n",
    "    s = koeffs0[4] + koeffs1[4]*x + koeffs2[4]*(x**2) + koeffs3[4]*(x**3)    \n",
    "    \n",
    "print(s)"
   ]
  },
  {
   "cell_type": "code",
   "execution_count": 12,
   "metadata": {},
   "outputs": [
    {
     "name": "stdout",
     "output_type": "stream",
     "text": [
      "0.014370522344215885\n",
      "0.06541254403206685\n"
     ]
    }
   ],
   "source": [
    "#вывод многочлена и производной многочлена\n",
    "\n",
    "P = b0 + b1*(x-x0) + b2*(x-x0)*(x-x1) + b3*(x-x0)*(x-x1)*(x-x2) + b4*(x-x0)*(x-x1)*(x-x2)*(x-x3) + b5*(x-x0)*(x-x1)*(x-x2)*(x-x3)*(x-x4)\n",
    "print(P)\n",
    "\n",
    "pp = pder(b1, b2, b3, b4, b5, x0, x1, x2, x3, x4, x)\n",
    "print(pp)"
   ]
  },
  {
   "cell_type": "code",
   "execution_count": null,
   "metadata": {},
   "outputs": [],
   "source": []
  }
 ],
 "metadata": {
  "kernelspec": {
   "display_name": "Python 3",
   "language": "python",
   "name": "python3"
  },
  "language_info": {
   "codemirror_mode": {
    "name": "ipython",
    "version": 3
   },
   "file_extension": ".py",
   "mimetype": "text/x-python",
   "name": "python",
   "nbconvert_exporter": "python",
   "pygments_lexer": "ipython3",
   "version": "3.7.4"
  }
 },
 "nbformat": 4,
 "nbformat_minor": 4
}
