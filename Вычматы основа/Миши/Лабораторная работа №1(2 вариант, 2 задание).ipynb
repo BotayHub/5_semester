{
 "cells": [
  {
   "cell_type": "code",
   "execution_count": 1,
   "metadata": {},
   "outputs": [],
   "source": [
    "import numpy as np\n",
    "import math as mh\n",
    "import matplotlib.pyplot as plt\n",
    "from sympy import diff"
   ]
  },
  {
   "cell_type": "code",
   "execution_count": 2,
   "metadata": {},
   "outputs": [],
   "source": [
    "g0 = 5/3\n",
    "ro0 = 1.694*10**(-4)\n",
    "p0 = 1.013*10**(6)\n",
    "u0 = 0\n",
    "g3 = 7/5\n",
    "c3 = 3.6537*10**(4)\n",
    "u3 = 1.229*10**(4)\n",
    "p3 = 1.6768*10**(6)\n",
    "e = 10**(-5)"
   ]
  },
  {
   "cell_type": "markdown",
   "metadata": {},
   "source": [
    "Найдем величины, которые есть в уравнении: "
   ]
  },
  {
   "cell_type": "code",
   "execution_count": 3,
   "metadata": {},
   "outputs": [
    {
     "name": "stdout",
     "output_type": "stream",
     "text": [
      "n = 7.000000000000001\n",
      "a0 = 4.0\n",
      "ro3 = 0.0017585046886418162\n",
      "mu =  0.0009751115695652081\n",
      "nu = 1.363936785446444\n",
      "x = 1.6552813425468906\n"
     ]
    }
   ],
   "source": [
    "n = (2*g3)/(g3-1);\n",
    "print(\"n =\", n);\n",
    "\n",
    "a0 = (g0+1)/(g0-1);\n",
    "print(\"a0 =\", a0);\n",
    "\n",
    "ro3 = (g3*p3)/(c3**2);\n",
    "print(\"ro3 =\", ro3)\n",
    "\n",
    "mu = (u3-u0)*(((g0-1)*ro0)/(2*p0)**(1/2));\n",
    "print(\"mu = \", mu);\n",
    "\n",
    "nu = (2/(g3-1))*(((g3*(g0-1)*p3*ro0)/(2*p0*ro3))**(1/2));\n",
    "print(\"nu =\", nu);\n",
    "\n",
    "x = p3/p0;\n",
    "print(\"x =\", x);"
   ]
  },
  {
   "cell_type": "markdown",
   "metadata": {},
   "source": [
    "Посчитаем коэффициенты уравнения: $X^2 Z^{2n} - \\alpha_0 \\nu^2 XZ^{n+2} + 2\\alpha_0 \\nu(\\mu + \\nu)X Z^{n+1} - [2 + (\\mu + \\nu)^2 \\alpha_0]X Z^{n} - \\nu^2 Z^2 + 2\\nu(\\mu + \\nu)Z - (\\mu + \\nu)^2 + 1 = 0$"
   ]
  },
  {
   "cell_type": "code",
   "execution_count": 4,
   "metadata": {},
   "outputs": [
    {
     "name": "stdout",
     "output_type": "stream",
     "text": [
      "b1 = 2.739956322983837\n",
      "b2 = -12.317435484741813\n",
      "b3 = 24.652483037691926\n",
      "b4 = -15.645616533691777\n",
      "b5 = -1.8603235546939787\n",
      "b6 = 3.7233070904672467\n",
      "b7 = -0.8629844866158409\n"
     ]
    }
   ],
   "source": [
    "b1 = (x**2);\n",
    "print(\"b1 =\", b1);\n",
    "\n",
    "b2 = (-a0)*(nu**2)*x;\n",
    "print(\"b2 =\", b2);\n",
    "\n",
    "b3 = 2*a0*nu*(mu+nu)*x;\n",
    "print(\"b3 =\", b3);\n",
    "\n",
    "b4 = -(2+((mu+nu)**2)*a0)*x;\n",
    "print(\"b4 =\", b4);\n",
    "\n",
    "b5 = (-1)*(nu**2);\n",
    "print(\"b5 =\", b5);\n",
    "\n",
    "b6 = (2*nu*(mu+nu));\n",
    "print(\"b6 =\", b6);\n",
    "\n",
    "b7 = (-1)*((mu+nu)**2)+1;\n",
    "print(\"b7 =\", b7);\n"
   ]
  },
  {
   "cell_type": "markdown",
   "metadata": {},
   "source": [
    "Найдем кольцо, в котором расположены корни:\n",
    "\n",
    "$\\frac{|b_{n}|}{|b_{n}|+B} \\leqslant |z| \\leqslant 1+\\frac{A}{|b_{0}|}$ (обозначения из лабника)"
   ]
  },
  {
   "cell_type": "code",
   "execution_count": 5,
   "metadata": {
    "scrolled": true
   },
   "outputs": [
    {
     "name": "stdout",
     "output_type": "stream",
     "text": [
      "0.03382201348235941 <= |z| <= 9.99740000630563\n"
     ]
    }
   ],
   "source": [
    "A = max([abs(b2), abs(b3), abs(b4), abs(b5), abs(b6), abs(b7)])\n",
    "B = max([abs(b1), abs(b2), abs(b3), abs(b4), abs(b5), abs(b6)])\n",
    "left_border = (abs(b7))/((abs(b7)+B))\n",
    "right_border = (1 + (A/abs(b1)));   \n",
    "print(left_border, \"<= |z| <=\", right_border)"
   ]
  },
  {
   "cell_type": "markdown",
   "metadata": {},
   "source": [
    "Попробуем локализовать корни уравнения с помощью теоремы Декарта:\n",
    "$f(z) = b_{1}*z^{14} + b_{2}*z^{9} + b_{3}*z^{8} + b_{4}*z^{7} + b_{5}*z^{2} + b_{6}*z + b_{7} = 0$\n",
    "\n",
    "Для f(z) число перемен знака равно 5 => число положительных действительных корней равно 5, или 3, или 1\n",
    "\n",
    "Для f(-z) число перемен знака равно 1 => число отрицательных действительных корней равно 1\n",
    "\n",
    "\n",
    "Напишем алгоритм для подсчета n-ой производной:"
   ]
  },
  {
   "cell_type": "markdown",
   "metadata": {},
   "source": [
    "degrees = [1, 1, 1, 0, 0, 0, 0, 1, 1, 1, 0, 0, 0, 0, 1]\n",
    "koeffs = [b7, b6, b5, 0, 0, 0, 0, b4, b3, b2, 0, 0, 0, 0, b1]\n",
    "def n_der(n):\n",
    "    k = 14\n",
    "    for i in range(n):\n",
    "        for j in range(k):\n",
    "            koeffs[j] = koeffs[j+1]*(j+1)\n",
    "            degrees[j] = degrees[j+1]\n",
    "        koeffs[k] = 0\n",
    "        degrees[k] = 0\n",
    "        k = k - 1"
   ]
  },
  {
   "cell_type": "markdown",
   "metadata": {},
   "source": [
    "Локализуем корни по теореме Бюдана-Фурье: для этого разобьем область нахождения корней на 10000 отрезков будем фиксировать разность количества смен знака между промежутками. "
   ]
  },
  {
   "cell_type": "code",
   "execution_count": null,
   "metadata": {},
   "outputs": [],
   "source": [
    "n_der(1)\n",
    "koeffs1 = [koeffs]\n",
    "print(*koeffs1, sep=', ')\n",
    "\n",
    "n_der(1)\n",
    "koeffs2 = [koeffs]\n",
    "print(*koeffs2, sep=', ')\n",
    "\n",
    "n_der(1)\n",
    "koeffs3 = [koeffs]\n",
    "print(*koeffs3, sep=', ')\n",
    "\n",
    "n_der(1)\n",
    "koeffs4 = [koeffs]\n",
    "print(*koeffs4, sep=', ')\n",
    "\n",
    "n_der(1)\n",
    "koeffs5 = [koeffs]\n",
    "print(*koeffs5, sep=', ')\n",
    "\n",
    "print(\"...............................\")\n",
    "n_der(1)\n",
    "koeffs6 = [koeffs]\n",
    "n_der(1)\n",
    "koeffs7 = [koeffs]\n",
    "n_der(1)\n",
    "koeffs8 = [koeffs]\n",
    "n_der(1)\n",
    "koeffs9 = [koeffs]\n",
    "n_der(1)\n",
    "koeffs10 = [koeffs]\n",
    "n_der(1)\n",
    "koeffs11 = [koeffs]\n",
    "n_der(1)\n",
    "koeffs12 = [koeffs]\n",
    "n_der(1)\n",
    "koeffs13 = [koeffs]\n",
    "n_der(1)\n",
    "koeffs14 = [koeffs]\n",
    "print(*koeffs14, sep=', ')\n",
    "\n",
    "def sign(a,b, sign):\n",
    "    if ((a > 0 and b < 0) or (a < 0 and b > 0) or (a!=b!=0)):\n",
    "        sign += 1;\n",
    "\n",
    "segments = []        \n",
    "delta = 0.02\n",
    "p = -10\n",
    "numbers=[0, 1, 2, 3, 4, 5, 6, 7, 8, 9, 10, 11, 12, 13, 14]\n",
    "while p<=10:\n",
    "        s0 = [] \n",
    "        s1 = []\n",
    "        s2 = []\n",
    "        s3 = []\n",
    "        s4 = []\n",
    "        s5 = []\n",
    "        s6 = []\n",
    "        s7 = []\n",
    "        s8 = []\n",
    "        s9 = []\n",
    "        s10 = []\n",
    "        s11 = []\n",
    "        s12 = []\n",
    "        s13 = []\n",
    "        s14 = []\n",
    "        sgn = 0\n",
    "        for i,j in zip(numbers, koeffs):\n",
    "            x = j*((p)**(i))\n",
    "            s0.append(x)\n",
    "        summ0 = sum(s0)\n",
    "        for i,j in zip(numbers, koeffs1):\n",
    "            x = j*((p)**(i))\n",
    "            s1.append(x)\n",
    "        summ1 = sum(s1)\n",
    "        sign(summ0, summ1, sgn)\n",
    "        for i,j in zip(numbers, koeffs1):\n",
    "            x = j*((p)**(i))\n",
    "            s1.append(x)\n",
    "        summ1 = sum(s1)\n",
    "        sign(summ1, summ2, sgn)\n",
    "        for i,j in zip(numbers, koeffs1):\n",
    "            x = j*((p)**(i))\n",
    "            s1.append(x)\n",
    "        summ1 = sum(s1)\n",
    "        sign(summ2, summ3, sgn)\n",
    "        for i,j in zip(numbers, koeffs1):\n",
    "            x = j*((p)**(i))\n",
    "            s1.append(x)\n",
    "        summ1 = sum(s1)\n",
    "        sign(summ3, summ4, sgn)\n",
    "        for i,j in zip(numbers, koeffs1):\n",
    "            x = j*((p)**(i))\n",
    "            s1.append(x)\n",
    "        summ1 = sum(s1)\n",
    "        sign(summ4, summ5, sgn)\n",
    "        for i,j in zip(numbers, koeffs1):\n",
    "            x = j*((p)**(i))\n",
    "            s1.append(x)\n",
    "        summ1 = sum(s1)\n",
    "        sign(summ5, summ6, sgn)\n",
    "        for i,j in zip(numbers, koeffs1):\n",
    "            x = j*((p)**(i))\n",
    "            s1.append(x)\n",
    "        summ1 = sum(s1)\n",
    "        sign(summ6, summ7, sgn)\n",
    "        for i,j in zip(numbers, koeffs1):\n",
    "            x = j*((p)**(i))\n",
    "            s1.append(x)\n",
    "        summ1 = sum(s1)\n",
    "        sign(summ7, summ8, sgn)\n",
    "        for i,j in zip(numbers, koeffs1):\n",
    "            x = j*((p)**(i))\n",
    "            s1.append(x)\n",
    "        summ1 = sum(s1)\n",
    "        sign(summ8, summ9, sgn)\n",
    "        for i,j in zip(numbers, koeffs1):\n",
    "            x = j*((p)**(i))\n",
    "            s1.append(x)\n",
    "        summ1 = sum(s1)\n",
    "        sign(summ9, summ10, sgn)\n",
    "        for i,j in zip(numbers, koeffs1):\n",
    "            x = j*((p)**(i))\n",
    "            s1.append(x)\n",
    "        summ1 = sum(s1)\n",
    "        sign(summ10, summ11, sgn)\n",
    "        for i,j in zip(numbers, koeffs1):\n",
    "            x = j*((p)**(i))\n",
    "            s1.append(x)\n",
    "        summ1 = sum(s1)\n",
    "        sign(summ11, summ12, sgn)\n",
    "        for i,j in zip(numbers, koeffs1):\n",
    "            x = j*((p)**(i))\n",
    "            s1.append(x)\n",
    "        summ1 = sum(s1)\n",
    "        sign(summ12, summ13, sgn)\n",
    "        for i,j in zip(numbers, koeffs1):\n",
    "            x = j*((p)**(i))\n",
    "            s1.append(x)\n",
    "        summ1 = sum(s1)\n",
    "        sign(summ13, summ14, sgn)\n",
    "        sgn1 = sgn\n",
    "        sgn = 0\n",
    "        \n",
    "        summ0 = 0 \n",
    "        summ1 = 0\n",
    "        summ2 = 0\n",
    "        summ3 = 0\n",
    "        summ4 = 0\n",
    "        summ5 = 0\n",
    "        summ6 = 0\n",
    "        summ7 = 0\n",
    "        summ8 = 0\n",
    "        summ9 = 0\n",
    "        summ10 = 0\n",
    "        summ11 = 0\n",
    "        summ12 = 0\n",
    "        summ13 = 0\n",
    "        summ14 = 0\n",
    "        \n",
    "        p += delta\n",
    "        for i,j in zip(numbers, koeffs):\n",
    "            summ0 = summ0 + j*((p)**(i))\n",
    "        for i,j in zip(numbers, koeffs1):\n",
    "            summ1 = summ1 + j*((p)**(i))\n",
    "        sign(summ0, summ1, sgn)\n",
    "        for i,j in zip(numbers, koeffs2):\n",
    "            summ2 = summ2 + j*((p)**(i))\n",
    "        sign(summ1, summ2, sgn)\n",
    "        for i,j in zip(numbers, koeffs3):\n",
    "            summ3 = summ3 + j*((p)**(i))\n",
    "        sign(summ2, summ3, sgn)\n",
    "        for i,j in zip(numbers, koeffs4):\n",
    "            summ4 = summ4 + j*((p)**(i))\n",
    "        sign(summ3, summ4, sgn)\n",
    "        for i,j in zip(numbers, koeffs5):\n",
    "            summ5 = summ5 + j*((p)**(i))\n",
    "        sign(summ4, summ5, sgn)\n",
    "        for i,j in zip(numbers, koeffs6):\n",
    "            summ6 = summ6 + j*((p)**(i))\n",
    "        sign(summ5, summ6, sgn)\n",
    "        for i,j in zip(numbers, koeffs7):\n",
    "            summ7 = summ7 + j*((p)**(i))\n",
    "        sign(summ6, summ7, sgn)\n",
    "        for i,j in zip(numbers, koeff8):\n",
    "            summ8 = summ8 + j*((p)**(i))\n",
    "        sign(summ7, summ8, sgn)\n",
    "        for i,j in zip(numbers, koeffs9):\n",
    "            summ9 = summ9 + j*((p)**(i))\n",
    "        sign(summ8, summ9, sgn)\n",
    "        for i,j in zip(numbers, koeffs10):\n",
    "            summ10 = summ10 + j*((p)**(i))\n",
    "        sign(summ9, summ10, sgn)\n",
    "        for i,j in zip(numbers, koeffs11):\n",
    "            summ11 = summ11 + j*((p)**(i))\n",
    "        sign(summ10, summ11, sgn)\n",
    "        for i,j in zip(numbers, koeffs12):\n",
    "            summ12 = summ12 + j*((p)**(i))\n",
    "        sign(summ11, summ12, sgn)\n",
    "        for i,j in zip(numbers, koeffs13):\n",
    "            summ13 = summ13 + j*((p)**(i))\n",
    "        sign(summ12, summ13, sgn)\n",
    "        for i,j in zip(numbers, koeffs14):\n",
    "            summ14 = summ14 + j*((p)**(i))\n",
    "        sign(summ13, summ14, sgn)\n",
    "        sgn2 = sgn \n",
    "        if (sgn1 != sgn2):\n",
    "            segment.append(p)\n",
    "            segment.append(p-delta)\n",
    "print(*segments, sep=\", \")        \n",
    "        \n"
   ]
  },
  {
   "cell_type": "markdown",
   "metadata": {},
   "source": [
    "По Бюдану-Фурье не получаеца, будем делить отрезки;("
   ]
  },
  {
   "cell_type": "code",
   "execution_count": 6,
   "metadata": {},
   "outputs": [
    {
     "name": "stdout",
     "output_type": "stream",
     "text": [
      "N =  1000000 - кол-во отрезков\n",
      "Delta =  9.963577992823272e-06 длина одного отрезка\n"
     ]
    }
   ],
   "source": [
    "def function(z):\n",
    "    global b\n",
    "    return b1*z**(14) + b2*z**(9) + b3*z**(8) + b4*z**(7) + b5*z**2 + b6*z + b7\n",
    "def sign(f):\n",
    "    if f>0:\n",
    "        return 1\n",
    "    else:\n",
    "        return 0\n",
    "N = 1000 #начинаем делить с 1000 отрезков\n",
    "segments = np.linspace(left_border, right_border, N)\n",
    "while (segments[1]-segments[0]>e):\n",
    "    N *= 10\n",
    "    segments = np.linspace(left_border, right_border, N)\n",
    "print(\"N = \", N, \"- кол-во отрезков\")\n",
    "\n",
    "len_s = (right_border - left_border)/N\n",
    "print(\"Delta = \", len_s, \"длина одного отрезка\")"
   ]
  },
  {
   "cell_type": "markdown",
   "metadata": {},
   "source": [
    "Определим индексы отрезков, сами отрезки и значения корней на них:"
   ]
  },
  {
   "cell_type": "code",
   "execution_count": 7,
   "metadata": {},
   "outputs": [
    {
     "ename": "TypeError",
     "evalue": "'float' object cannot be interpreted as an integer",
     "output_type": "error",
     "traceback": [
      "\u001b[1;31m---------------------------------------------------------------------------\u001b[0m",
      "\u001b[1;31mTypeError\u001b[0m                                 Traceback (most recent call last)",
      "\u001b[1;32m<ipython-input-7-29d852084ce7>\u001b[0m in \u001b[0;36m<module>\u001b[1;34m\u001b[0m\n\u001b[0;32m      1\u001b[0m \u001b[0mindex_pos\u001b[0m \u001b[1;33m=\u001b[0m \u001b[1;33m[\u001b[0m\u001b[1;33m]\u001b[0m\u001b[1;33m\u001b[0m\u001b[1;33m\u001b[0m\u001b[0m\n\u001b[1;32m----> 2\u001b[1;33m \u001b[1;32mfor\u001b[0m \u001b[0mi\u001b[0m \u001b[1;32min\u001b[0m \u001b[0mrange\u001b[0m\u001b[1;33m(\u001b[0m\u001b[0mn\u001b[0m\u001b[1;33m-\u001b[0m\u001b[1;36m1\u001b[0m\u001b[1;33m)\u001b[0m\u001b[1;33m:\u001b[0m\u001b[1;33m\u001b[0m\u001b[1;33m\u001b[0m\u001b[0m\n\u001b[0m\u001b[0;32m      3\u001b[0m     \u001b[1;32mif\u001b[0m \u001b[0msign\u001b[0m\u001b[1;33m(\u001b[0m\u001b[0mfunction\u001b[0m\u001b[1;33m(\u001b[0m\u001b[0mleft_border\u001b[0m \u001b[1;33m+\u001b[0m \u001b[0mi\u001b[0m\u001b[1;33m*\u001b[0m\u001b[0mlen_s\u001b[0m\u001b[1;33m)\u001b[0m\u001b[1;33m)\u001b[0m \u001b[1;33m!=\u001b[0m \u001b[0msign\u001b[0m\u001b[1;33m(\u001b[0m\u001b[0mfunction\u001b[0m\u001b[1;33m(\u001b[0m\u001b[0mleft_border\u001b[0m \u001b[1;33m+\u001b[0m \u001b[1;33m(\u001b[0m\u001b[0mi\u001b[0m\u001b[1;33m+\u001b[0m\u001b[1;36m1\u001b[0m\u001b[1;33m)\u001b[0m\u001b[1;33m*\u001b[0m\u001b[0mlen_s\u001b[0m\u001b[1;33m)\u001b[0m\u001b[1;33m)\u001b[0m\u001b[1;33m:\u001b[0m\u001b[1;33m\u001b[0m\u001b[1;33m\u001b[0m\u001b[0m\n\u001b[0;32m      4\u001b[0m         \u001b[0mindex_pos\u001b[0m\u001b[1;33m.\u001b[0m\u001b[0mappend\u001b[0m\u001b[1;33m(\u001b[0m\u001b[0mi\u001b[0m\u001b[1;33m)\u001b[0m\u001b[1;33m\u001b[0m\u001b[1;33m\u001b[0m\u001b[0m\n\u001b[0;32m      5\u001b[0m \u001b[0mprint\u001b[0m\u001b[1;33m(\u001b[0m\u001b[1;33m*\u001b[0m\u001b[0mindex_pos\u001b[0m\u001b[1;33m,\u001b[0m \u001b[0msep\u001b[0m\u001b[1;33m=\u001b[0m\u001b[1;34m\", \"\u001b[0m\u001b[1;33m)\u001b[0m\u001b[1;33m\u001b[0m\u001b[1;33m\u001b[0m\u001b[0m\n",
      "\u001b[1;31mTypeError\u001b[0m: 'float' object cannot be interpreted as an integer"
     ]
    }
   ],
   "source": [
    "index_pos = []\n",
    "for i in range(n-1):\n",
    "    if sign(function(left_border + i*len_s)) != sign(function(left_border + (i+1)*len_s)):\n",
    "        index_pos.append(i)\n",
    "print(*index_pos, sep=\", \") "
   ]
  },
  {
   "cell_type": "code",
   "execution_count": 49,
   "metadata": {},
   "outputs": [
    {
     "name": "stdout",
     "output_type": "stream",
     "text": [
      "929895\n"
     ]
    }
   ],
   "source": [
    "index_neg = []\n",
    "for i in range(n-1):\n",
    "    if sign(function(-right_border + i*len_s)) != sign(function(-right_border + (i+1)*len_s)):\n",
    "        index_neg.append(i)\n",
    "print(*index_neg, sep=\", \") "
   ]
  },
  {
   "cell_type": "markdown",
   "metadata": {},
   "source": [
    "Сами отрезки и корни:"
   ]
  },
  {
   "cell_type": "code",
   "execution_count": 50,
   "metadata": {},
   "outputs": [
    {
     "name": "stdout",
     "output_type": "stream",
     "text": [
      "0.2678963512677565 0.26790631484574934\n",
      "0.8817723185615839 0.8817822821395767\n",
      "0.9507103146939281 0.950720278271921\n",
      "-0.732318648669235 -0.7323086850912421\n"
     ]
    }
   ],
   "source": [
    "left = []\n",
    "right = []\n",
    "for i in (index_pos):\n",
    "    left.append((left_border + i*len_s))\n",
    "    right.append((left_border + (i+1)*len_s))\n",
    "\n",
    "for i in (index_neg):\n",
    "    left.append((-right_border + i*len_s))\n",
    "    right.append((-right_border + (i+1)*len_s))\n",
    "    \n",
    "for i,j in zip(left, right):\n",
    "    print(i,j)"
   ]
  },
  {
   "cell_type": "code",
   "execution_count": 51,
   "metadata": {},
   "outputs": [
    {
     "name": "stdout",
     "output_type": "stream",
     "text": [
      "0.26790133305675295, 0.8817773003505803, 0.9507152964829245, -0.7323136668802377\n"
     ]
    }
   ],
   "source": [
    "z = []\n",
    "for i in (index_pos):\n",
    "    z.append(left_border + ((2*i + 1)*len_s)/2)\n",
    "for i in (index_neg):\n",
    "    z.append(-right_border + ((2*i + 1)*len_s)/2)\n",
    "print(*z, sep=\", \")"
   ]
  },
  {
   "cell_type": "code",
   "execution_count": 52,
   "metadata": {},
   "outputs": [
    {
     "data": {
      "text/plain": [
       "array([ 0.2679 ,  0.88178,  0.95072, -0.73231])"
      ]
     },
     "execution_count": 52,
     "metadata": {},
     "output_type": "execute_result"
    }
   ],
   "source": [
    "solutions = np.array(z)\n",
    "solutions = solutions.round(5)\n",
    "solutions"
   ]
  },
  {
   "cell_type": "markdown",
   "metadata": {},
   "source": [
    "Из условия $Z = \\frac{P_{1}}{P_{3}}^{1/n}$"
   ]
  },
  {
   "cell_type": "code",
   "execution_count": 58,
   "metadata": {},
   "outputs": [
    {
     "data": {
      "text/plain": [
       "array([ 1.66069646e+02,  6.95029078e+05,  1.17719844e+06, -1.89385192e+05])"
      ]
     },
     "execution_count": 58,
     "metadata": {},
     "output_type": "execute_result"
    }
   ],
   "source": [
    "p1 = p3*(solutions**int(7))\n",
    "p1"
   ]
  },
  {
   "cell_type": "markdown",
   "metadata": {},
   "source": [
    "Очевидно, последний элемент массива не подходит, т.к. давление не может быть отрицательным. Определим скорость ударной волны:"
   ]
  },
  {
   "cell_type": "code",
   "execution_count": 60,
   "metadata": {},
   "outputs": [
    {
     "data": {
      "text/plain": [
       "array([146033.6885,  33887.0207,  21292.7168])"
      ]
     },
     "execution_count": 60,
     "metadata": {},
     "output_type": "execute_result"
    }
   ],
   "source": [
    "c2 = c3*solutions\n",
    "u1 = u3 + (2*(c3 - c2))/(g3 - 1)\n",
    "u1[0:3]"
   ]
  },
  {
   "cell_type": "markdown",
   "metadata": {},
   "source": [
    "$D_0 = U_0 + \\frac{P_1 - P_0}{\\rho_0(U_1 - U_0)}$"
   ]
  },
  {
   "cell_type": "code",
   "execution_count": 63,
   "metadata": {},
   "outputs": [
    {
     "data": {
      "text/plain": [
       "array([-40942.257, -55391.179,  45522.335])"
      ]
     },
     "execution_count": 63,
     "metadata": {},
     "output_type": "execute_result"
    }
   ],
   "source": [
    "d0 = u0 + (p1 - p0)/(ro0*(u1[0:3] - u0))\n",
    "d0.round(3)"
   ]
  },
  {
   "cell_type": "code",
   "execution_count": null,
   "metadata": {},
   "outputs": [],
   "source": []
  }
 ],
 "metadata": {
  "kernelspec": {
   "display_name": "Python 3",
   "language": "python",
   "name": "python3"
  },
  "language_info": {
   "codemirror_mode": {
    "name": "ipython",
    "version": 3
   },
   "file_extension": ".py",
   "mimetype": "text/x-python",
   "name": "python",
   "nbconvert_exporter": "python",
   "pygments_lexer": "ipython3",
   "version": "3.8.5"
  }
 },
 "nbformat": 4,
 "nbformat_minor": 4
}
