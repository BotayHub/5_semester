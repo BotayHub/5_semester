{
 "cells": [
  {
   "cell_type": "code",
   "execution_count": 199,
   "metadata": {},
   "outputs": [],
   "source": [
    "import numpy as np\n",
    "import math as mh\n",
    "import matplotlib.pyplot as plt\n",
    "from sympy import diff\n",
    "from mpl_toolkits.mplot3d import Axes3D\n",
    "\n",
    "%matplotlib inline"
   ]
  },
  {
   "cell_type": "markdown",
   "metadata": {},
   "source": [
    "Метод Рунге-Кутты 4 порядка точности; $x\\in (1, 1.2), \\varepsilon = 10^{-4}, xy'_{x}+xy^{2}-y=0, y(1)=2$\n",
    "\n",
    "Выразим $y'_{x}$:"
   ]
  },
  {
   "cell_type": "code",
   "execution_count": 200,
   "metadata": {},
   "outputs": [],
   "source": [
    "def f(x,y):\n",
    "    yder = (y-x*y**2)/(x)\n",
    "    return yder"
   ]
  },
  {
   "cell_type": "markdown",
   "metadata": {},
   "source": [
    "Используем классический метод РК четвертого порядка точности:"
   ]
  },
  {
   "cell_type": "code",
   "execution_count": 201,
   "metadata": {},
   "outputs": [],
   "source": [
    "def f1(x,y):\n",
    "    return f(x,y)"
   ]
  },
  {
   "cell_type": "code",
   "execution_count": 202,
   "metadata": {},
   "outputs": [],
   "source": [
    "def f2(x,y,h):\n",
    "    return f(x + (h/2) , y + (h/2)*f1(x,y))"
   ]
  },
  {
   "cell_type": "code",
   "execution_count": 203,
   "metadata": {},
   "outputs": [],
   "source": [
    "def f3(x,y,h):\n",
    "    return f(x + (h/2) , y + (h/2)*f2(x,y, h))"
   ]
  },
  {
   "cell_type": "code",
   "execution_count": 204,
   "metadata": {},
   "outputs": [],
   "source": [
    "def f4(x,y,h):\n",
    "    return f(x + h , y + h*f3(x,y, h))"
   ]
  },
  {
   "cell_type": "code",
   "execution_count": 205,
   "metadata": {},
   "outputs": [],
   "source": [
    "def y_n1(x, y, h):\n",
    "    y_n1 = y + (h/6)*(f1(x,y) + 2*f2(x,y,h) + 2*f3(x,y,h) + f4(x,y,h))\n",
    "    return y_n1"
   ]
  },
  {
   "cell_type": "code",
   "execution_count": 206,
   "metadata": {},
   "outputs": [],
   "source": [
    "a = 1 #начало отрезка\n",
    "b = 2 #конец отрезка\n",
    "N = 11 #начальное разбиение в 2h\n",
    "y1 = 2\n",
    "e = 10**(-4)\n",
    "\n",
    "y2h_values = []\n",
    "h = (b - a)/N\n",
    "\n",
    "x2h = []\n",
    "x_n = a\n",
    "\n",
    "y2h_values.append(y_n1(x_n, y1, h))\n",
    "x_n += h\n",
    "x2h.append(x_n)\n",
    "\n",
    "for i in range(N-1):\n",
    "    y_nplus1 = y_n1(x_n, y2h_values[i], h)\n",
    "    y2h_values.append(y_nplus1)\n",
    "    x_n += h\n",
    "    x2h.append(x_n)\n",
    "\n",
    "#увеличиваем разбиение в 2 раза:\n",
    "\n",
    "N *= 2\n",
    "yh_values = []\n",
    "h = (b - a)/N\n",
    "\n",
    "xh = []\n",
    "x_n = a \n",
    "\n",
    "yh_values.append(y_n1(x_n, y1, h))\n",
    "x_n += h\n",
    "xh.append(x_n)\n",
    "\n",
    "for i in range(N-1):\n",
    "    y_nplus1 = y_n1(x_n,yh_values[i], h)\n",
    "    yh_values.append(y_nplus1)\n",
    "    x_n += h\n",
    "    xh.append(x_n)"
   ]
  },
  {
   "cell_type": "code",
   "execution_count": 207,
   "metadata": {},
   "outputs": [],
   "source": [
    "def error(x1,y1,x2,y2): #x1>x2\n",
    "    k = 4 #4-стадийный метод\n",
    "    error = []\n",
    "    for i in range(len(x1)):\n",
    "        for j in range(len(x2)):\n",
    "            if(round(x1[i],3) == round(x2[j],3)):\n",
    "                error.append(abs(y1[i] - y2[j]))\n",
    "    return max(np.array(error)/(2**k-1))"
   ]
  },
  {
   "cell_type": "code",
   "execution_count": 208,
   "metadata": {},
   "outputs": [
    {
     "name": "stdout",
     "output_type": "stream",
     "text": [
      "Погрешность между 11 и 22 точками: 2.2248524416864276e-07\n"
     ]
    }
   ],
   "source": [
    "print('Погрешность между 11 и 22 точками:' , error(xh,yh_values,x2h,y2h_values))"
   ]
  },
  {
   "cell_type": "code",
   "execution_count": null,
   "metadata": {},
   "outputs": [],
   "source": []
  }
 ],
 "metadata": {
  "kernelspec": {
   "display_name": "Python 3",
   "language": "python",
   "name": "python3"
  },
  "language_info": {
   "codemirror_mode": {
    "name": "ipython",
    "version": 3
   },
   "file_extension": ".py",
   "mimetype": "text/x-python",
   "name": "python",
   "nbconvert_exporter": "python",
   "pygments_lexer": "ipython3",
   "version": "3.7.4"
  }
 },
 "nbformat": 4,
 "nbformat_minor": 2
}
