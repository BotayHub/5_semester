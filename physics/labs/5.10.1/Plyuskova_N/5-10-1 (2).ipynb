{
 "cells": [
  {
   "cell_type": "code",
   "execution_count": 17,
   "metadata": {},
   "outputs": [],
   "source": [
    "import matplotlib.pyplot as plt\n",
    "import numpy as np\n",
    "from scipy.optimize import curve_fit \n",
    "from numpy import array, exp"
   ]
  },
  {
   "cell_type": "code",
   "execution_count": 18,
   "metadata": {},
   "outputs": [],
   "source": [
    "V = [0, 100.2, 115.2, 129.6, 145, 160.6, 174.3, 189.8, 205.4, 220.8, 234.8, 249]\n",
    "Vprobe1 = [0, 8.35, 9.56, 10.83, 11.9, 13.42, 14.51, 15.87, 17.03, 18.52, 19.47, 20.9]\n",
    "Vprobe2 = [0, 6.82, 7.82, 8.78, 9.68, 10.86, 11.76, 12.78, 13.84, 14.94, 15.73, 16.94]\n",
    "V_err = [0, 0.1, 0.1, 0.1, 0.1, 0.1, 0.1, 0.1, 0.3, 0.1, 0.1, 0.5]\n",
    "\n",
    "d = 14.9 #мм - диаметр пробной катушки\n",
    "d_err = 0.1\n",
    "N = 44 #витки на пробной катушке\n",
    "nu = 400 #Гц - частота модуляции, указана в лабнике\n",
    "f0 = 162.4 * 10**6 #МГц - резонансная частота\n",
    "A = 10 #ширина резонанса\n",
    "A_half = 0.8 #полуширина пика\n",
    "h = 6.6254*10**(-34)\n",
    "mu = 927.33*10**(-26)"
   ]
  },
  {
   "cell_type": "code",
   "execution_count": 19,
   "metadata": {},
   "outputs": [
    {
     "name": "stdout",
     "output_type": "stream",
     "text": [
      "Аппроксимировали прямой  0.08 * x + -0.02\n",
      "Для напряжения катушки 6.54 мВ напряжение ЛАТР имеет величину 81.5 мВ\n"
     ]
    },
    {
     "data": {
      "text/plain": [
       "<Figure size 432x288 with 0 Axes>"
      ]
     },
     "metadata": {},
     "output_type": "display_data"
    },
    {
     "data": {
      "image/png": "[encoded data removed]",
      "text/plain": [
       "<Figure size 432x288 with 1 Axes>"
      ]
     },
     "metadata": {
      "needs_background": "light"
     },
     "output_type": "display_data"
    }
   ],
   "source": [
    "fig = plt.figure()\n",
    "Vprobe = [(Vprobe1[i]+Vprobe2[i])/2 for i in range(len(Vprobe1))]\n",
    "\n",
    "z = np.polyfit(V, Vprobe, 1)\n",
    "f = np.poly1d(z)\n",
    "print(\"Аппроксимировали прямой \", round(f.c[0], 2) ,'* x +', round(f.c[1], 2))\n",
    "\n",
    "Vprobe_new = f(V[1::])\n",
    "\n",
    "Vp = round((6.61+6.48)/2, 2)\n",
    "\n",
    "x = (Vp + round(f.c[1], 2))/round(f.c[0], 2)\n",
    "\n",
    "print('Для напряжения катушки', Vp, 'мВ напряжение ЛАТР имеет величину', round(x, 2), 'мВ')\n",
    "\n",
    "fig, ax = plt.subplots()\n",
    "\n",
    "plt.scatter(V[1::], Vprobe[1::], s = 5, color = 'black')\n",
    "plt.plot(V[1::], Vprobe_new, color = 'black')\n",
    "plt.errorbar(V[1::], Vprobe_new, xerr = V_err[1::], fmt='none',ecolor = 'black',elinewidth = 1)\n",
    "\n",
    "plt.grid(True)\n",
    "ax.minorticks_on()\n",
    "ax.grid(which='major', linewidth = 0.75)\n",
    "ax.grid(which='minor', linewidth = 0.5)\n",
    "ax.set_ylabel ('Vср, мВ')\n",
    "ax.set_xlabel('V, мВ')\n",
    "plt.show()\n",
    "fig.savefig('V (Vср)', dpi = 1000)"
   ]
  },
  {
   "cell_type": "code",
   "execution_count": 25,
   "metadata": {},
   "outputs": [
    {
     "name": "stdout",
     "output_type": "stream",
     "text": [
      "Arguments:  [0.07543456]\n"
     ]
    }
   ],
   "source": [
    "def mapping(x, a): \n",
    "    return a * x #задание целевой функции, которой мы апроксимируем\n",
    "\n",
    "args, _ = curve_fit(mapping, V[1::], Vprobe_new) #нашли аргументы целевой функции\n",
    "a1 = args[0]\n",
    "y_fit1 = [i for i in range(len(V))]\n",
    "for i in range (1,len(V)):\n",
    "    y_fit1[i] = a1 * V[i]\n",
    "    \n",
    "args, covar = curve_fit(mapping, V[1::],Vprobe_new) \n",
    "print(\"Arguments: \", args)"
   ]
  },
  {
   "cell_type": "markdown",
   "metadata": {},
   "source": [
    "## Рассчет всех величин\n",
    "$B_{\\text{мод}} = \\dfrac{2\\sqrt{2}V_p}{\\pi^2 d_{\\text{проб}}^2 N_{\\text{проб}}\\nu}$\n",
    "\n",
    "$\\sigma_{B_{\\text{мод}}}=\\sqrt{\\left(\\dfrac{\\partial B_{\\text{мод}}}{\\partial \\mathcal{E}} \\right)^2 \\sigma^2_\\mathcal{E} + \\left(\\dfrac{\\partial B_{\\text{мод}}}{\\partial d_{\\text{проб}}} \\right)^2 \\sigma^2_{d_{\\text{проб}}}}$\n",
    "\n",
    "$\\Delta B = \\dfrac{A_{1/2}}{A_{\\text{полн}}} B_{\\text{мод}}$\n",
    "\n",
    "$\\sigma_{\\Delta B} = \\sqrt{ \\left(\\dfrac{\\partial \\Delta B}{\\partial A_{\\text{полн}}} \\right)^2 \\sigma^2_{A_{\\text{полн}}} +  \\left(\\dfrac{\\partial \\Delta B}{\\partial A_{\\text{1/2}}} \\right)^2 \\sigma^2_{A_{\\text{1/2}}} + \\left(\\dfrac{\\partial \\Delta B}{\\partial B_{\\text{мод}}} \\right)^2 \\sigma^2_{B_{\\text{мод}}}}$\n",
    "\n",
    "$k = \\dfrac{\\langle  V_{\\text{сред}} V_R\\rangle}{V_R^2},~\\sigma_k = \\dfrac{1}{\\sqrt{n}}\\sqrt{\\dfrac{\\langle V_{\\text{сред}}^2 \\rangle}{\\langle V_R^2 \\rangle} - k^2}$\n",
    "\n",
    "$B_0 = \\dfrac{4k U}{\\pi \\omega d_{\\text{проб}}^2 N_{\\text{проб}}}$\n",
    "\n",
    "$\\sigma_{B_0} = \\sqrt{ \\left( \\dfrac{\\partial B_0}{\\partial k}\\right)^2 \\sigma_{k}^2 + \\left( \\dfrac{\\partial B_0}{\\partial U_R}\\right)^2 \\sigma_{U_R}^2 + \\left( \\dfrac{\\partial B_0}{\\partial d_{\\text{проб}}}\\right)^2 \\sigma_{d_{\\text{проб}}}^2}$\n",
    "\n",
    "$g = \\dfrac{hf_0}{\\mu_B B_0}$\n",
    "\n",
    "$\\sigma_g = \\sqrt{ \\left( \\dfrac{\\partial g}{\\partial f_0}\\right)^2 \\sigma_{f_0}^2 + \\left( \\dfrac{\\partial g}{\\partial B_0}\\right)^2 \\sigma_{B_0}^2}$"
   ]
  },
  {
   "cell_type": "code",
   "execution_count": 26,
   "metadata": {},
   "outputs": [
    {
     "name": "stdout",
     "output_type": "stream",
     "text": [
      "Bmod = 0.47966473668773446 \n",
      "deltaB = 0.03837317893501876 \n",
      "B0 = 4.226711975940134 \n",
      "g = 2.745118926276999\n"
     ]
    }
   ],
   "source": [
    "Bmod = np.sqrt(8)*Vp/((np.pi*d*10**(-3))**2 * N * nu)\n",
    "deltaB = A_half * Bmod/A\n",
    "B0 = 2*round(x, 2)/((np.pi*d*10**(-3))**2 * N * nu)\n",
    "g = h*f0/(mu*B0*10**(-3))\n",
    "\n",
    "print('Bmod =', Bmod, '\\ndeltaB =', deltaB, '\\nB0 =', B0, '\\ng =', g)"
   ]
  }
 ],
 "metadata": {
  "kernelspec": {
   "display_name": "Python 3",
   "language": "python",
   "name": "python3"
  },
  "language_info": {
   "codemirror_mode": {
    "name": "ipython",
    "version": 3
   },
   "file_extension": ".py",
   "mimetype": "text/x-python",
   "name": "python",
   "nbconvert_exporter": "python",
   "pygments_lexer": "ipython3",
   "version": "3.7.4"
  }
 },
 "nbformat": 4,
 "nbformat_minor": 5
}
