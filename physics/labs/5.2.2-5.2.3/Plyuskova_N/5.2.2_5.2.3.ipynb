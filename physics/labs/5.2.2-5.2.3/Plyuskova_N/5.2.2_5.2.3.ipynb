{
 "cells": [
  {
   "cell_type": "code",
   "execution_count": 12,
   "metadata": {},
   "outputs": [
    {
     "ename": "RuntimeError",
     "evalue": "Optimal parameters not found: Number of calls to function has reached maxfev = 800.",
     "output_type": "error",
     "traceback": [
      "\u001b[1;31m---------------------------------------------------------------------------\u001b[0m",
      "\u001b[1;31mRuntimeError\u001b[0m                              Traceback (most recent call last)",
      "\u001b[1;32m<ipython-input-12-5d0c9df4754b>\u001b[0m in \u001b[0;36m<module>\u001b[1;34m\u001b[0m\n\u001b[0;32m     17\u001b[0m \u001b[1;33m\u001b[0m\u001b[0m\n\u001b[0;32m     18\u001b[0m \u001b[1;31m#Железо\u001b[0m\u001b[1;33m\u001b[0m\u001b[1;33m\u001b[0m\u001b[1;33m\u001b[0m\u001b[0m\n\u001b[1;32m---> 19\u001b[1;33m \u001b[0margs\u001b[0m\u001b[1;33m,\u001b[0m \u001b[0m_\u001b[0m \u001b[1;33m=\u001b[0m \u001b[0mcurve_fit\u001b[0m\u001b[1;33m(\u001b[0m\u001b[0mmapping\u001b[0m\u001b[1;33m,\u001b[0m \u001b[0mx\u001b[0m\u001b[1;33m,\u001b[0m \u001b[0my\u001b[0m\u001b[1;33m)\u001b[0m \u001b[1;31m#нашли аргументы целевой функции\u001b[0m\u001b[1;33m\u001b[0m\u001b[1;33m\u001b[0m\u001b[0m\n\u001b[0m\u001b[0;32m     20\u001b[0m \u001b[0ma\u001b[0m\u001b[1;33m,\u001b[0m \u001b[0mb\u001b[0m \u001b[1;33m=\u001b[0m \u001b[0margs\u001b[0m\u001b[1;33m[\u001b[0m\u001b[1;36m0\u001b[0m\u001b[1;33m]\u001b[0m\u001b[1;33m,\u001b[0m \u001b[0margs\u001b[0m\u001b[1;33m[\u001b[0m\u001b[1;36m1\u001b[0m\u001b[1;33m]\u001b[0m\u001b[1;33m,\u001b[0m \u001b[0margs\u001b[0m\u001b[1;33m[\u001b[0m\u001b[1;36m2\u001b[0m\u001b[1;33m]\u001b[0m\u001b[1;33m\u001b[0m\u001b[1;33m\u001b[0m\u001b[0m\n\u001b[0;32m     21\u001b[0m \u001b[0my_fit\u001b[0m \u001b[1;33m=\u001b[0m \u001b[1;33m[\u001b[0m\u001b[0mi\u001b[0m \u001b[1;32mfor\u001b[0m \u001b[0mi\u001b[0m \u001b[1;32min\u001b[0m \u001b[0mrange\u001b[0m\u001b[1;33m(\u001b[0m\u001b[0mlen\u001b[0m\u001b[1;33m(\u001b[0m\u001b[0mx\u001b[0m\u001b[1;33m)\u001b[0m\u001b[1;33m)\u001b[0m\u001b[1;33m]\u001b[0m\u001b[1;33m\u001b[0m\u001b[1;33m\u001b[0m\u001b[0m\n",
      "\u001b[1;32m~\\Anaconda3\\lib\\site-packages\\scipy\\optimize\\minpack.py\u001b[0m in \u001b[0;36mcurve_fit\u001b[1;34m(f, xdata, ydata, p0, sigma, absolute_sigma, check_finite, bounds, method, jac, **kwargs)\u001b[0m\n\u001b[0;32m    754\u001b[0m         \u001b[0mcost\u001b[0m \u001b[1;33m=\u001b[0m \u001b[0mnp\u001b[0m\u001b[1;33m.\u001b[0m\u001b[0msum\u001b[0m\u001b[1;33m(\u001b[0m\u001b[0minfodict\u001b[0m\u001b[1;33m[\u001b[0m\u001b[1;34m'fvec'\u001b[0m\u001b[1;33m]\u001b[0m \u001b[1;33m**\u001b[0m \u001b[1;36m2\u001b[0m\u001b[1;33m)\u001b[0m\u001b[1;33m\u001b[0m\u001b[1;33m\u001b[0m\u001b[0m\n\u001b[0;32m    755\u001b[0m         \u001b[1;32mif\u001b[0m \u001b[0mier\u001b[0m \u001b[1;32mnot\u001b[0m \u001b[1;32min\u001b[0m \u001b[1;33m[\u001b[0m\u001b[1;36m1\u001b[0m\u001b[1;33m,\u001b[0m \u001b[1;36m2\u001b[0m\u001b[1;33m,\u001b[0m \u001b[1;36m3\u001b[0m\u001b[1;33m,\u001b[0m \u001b[1;36m4\u001b[0m\u001b[1;33m]\u001b[0m\u001b[1;33m:\u001b[0m\u001b[1;33m\u001b[0m\u001b[1;33m\u001b[0m\u001b[0m\n\u001b[1;32m--> 756\u001b[1;33m             \u001b[1;32mraise\u001b[0m \u001b[0mRuntimeError\u001b[0m\u001b[1;33m(\u001b[0m\u001b[1;34m\"Optimal parameters not found: \"\u001b[0m \u001b[1;33m+\u001b[0m \u001b[0merrmsg\u001b[0m\u001b[1;33m)\u001b[0m\u001b[1;33m\u001b[0m\u001b[1;33m\u001b[0m\u001b[0m\n\u001b[0m\u001b[0;32m    757\u001b[0m     \u001b[1;32melse\u001b[0m\u001b[1;33m:\u001b[0m\u001b[1;33m\u001b[0m\u001b[1;33m\u001b[0m\u001b[0m\n\u001b[0;32m    758\u001b[0m         \u001b[1;31m# Rename maxfev (leastsq) to max_nfev (least_squares), if specified.\u001b[0m\u001b[1;33m\u001b[0m\u001b[1;33m\u001b[0m\u001b[1;33m\u001b[0m\u001b[0m\n",
      "\u001b[1;31mRuntimeError\u001b[0m: Optimal parameters not found: Number of calls to function has reached maxfev = 800."
     ]
    },
    {
     "data": {
      "text/plain": [
       "<Figure size 432x288 with 0 Axes>"
      ]
     },
     "metadata": {},
     "output_type": "display_data"
    }
   ],
   "source": [
    "from scipy.optimize import curve_fit \n",
    "from numpy import array, exp\n",
    "import matplotlib.pyplot as plt\n",
    "\n",
    "from matplotlib.patches import Ellipse # для написания греческих букв\n",
    "\n",
    "fig = plt.figure()\n",
    "\n",
    "#данные\n",
    "x=[2956,2926,2860,2848,2820,2798,2790,2752,2745,2727,2715,2699,2679,2658,2647,2630,2618,2596,2574,2560,2529,2514,2250,2210,2202,2919,2687,2481,2470,2292,1868,1206,651]\n",
    "y= [7032,6929,6717,6678,6599,6533,6507,6402,6383,6334,6305,6267,6217,6164,6143,6096,6074,6030,5976,5945,5882,5852,5401,5341,5331,6907,6234,5791,5770,5461,4916,4358,4047]\n",
    "x_error= 1\n",
    "\n",
    "def regress(M, N, x, x_n, t_n, lamda=0):\n",
    "    print(\"-----------------------M=%d, N=%d-------------------------\" %(M,N))\n",
    "    order = np.arange(M+1)\n",
    "    order = order[:, np.newaxis]\n",
    "    e = np.tile(order, [1,N])\n",
    "    XT = np.power(x_n, e)\n",
    "    X = np.transpose(XT)\n",
    "    a = np.matmul(XT, X) + lamda*np.identity(M+1) #X.T * X\n",
    "    b = np.matmul(XT, t_n) #X.T * T\n",
    "    w = np.linalg.solve(a,b) #aW = b => (X.T * X) * W = X.T * T\n",
    "    print(\"W:\")\n",
    "    print(w)\n",
    "    e2 = np.tile(order, [1,x.shape[0]])\n",
    "    XT2 = np.power(x, e2)\n",
    "    p = np.matmul(w, XT2)\n",
    "    return p\n",
    "\n",
    "p = regress(3, 33, x, x_10, t_10)\n",
    "\n",
    "#построение графика\n",
    "plt.plot(x,y,color = 'red', marker ='o',linestyle='None', markersize = 1) #точечный график\n",
    "plt.plot(x, y_fit, color = 'red', linewidth = 1, label='Fe: -0.486x + 8.89') #апроксимирующая прямая\n",
    "#plt.errorbar(x, y,xerr = x1_error,fmt='none',ecolor = 'black',elinewidth = 3)# полосы погрешностей\n",
    "\n",
    "\n",
    "plt.xlabel(\"Theta, grad\")\n",
    "plt.ylabel(\"lambda, angstrem\")\n",
    "#plt.axis([0, 20.5, 3.3, 8.5])\n",
    "#plt.legend() #легенда\n",
    "plt.grid(True) \n",
    "plt.show()\n",
    "fig.savefig('find_mu.png', dpi = 1000)"
   ]
  },
  {
   "cell_type": "code",
   "execution_count": 22,
   "metadata": {},
   "outputs": [
    {
     "name": "stdout",
     "output_type": "stream",
     "text": [
      "[ 1.31123589e-10 -7.20968654e-07  1.67818647e-03 -1.09987180e+00\n",
      "  4.22778159e+03]\n"
     ]
    },
    {
     "data": {
      "image/png": "[encoded data removed]",
      "text/plain": [
       "<Figure size 432x288 with 1 Axes>"
      ]
     },
     "metadata": {
      "needs_background": "light"
     },
     "output_type": "display_data"
    }
   ],
   "source": [
    "import matplotlib.pyplot as plt\n",
    "import numpy as np\n",
    "from scipy.optimize import curve_fit\n",
    "\n",
    "fig = plt.figure()\n",
    "\n",
    "fi=[2956,2926,2860,2848,2820,2798,2790,2752,2745,2727,2715,2699,2679,2658,2647,2630,2618,2596,2574,2560,2529,2514,2250,2210,2202,2919,2687,2481,2470,2292,1868,1206,651]\n",
    "Lambda= [7032,6929,6717,6678,6599,6533,6507,6402,6383,6334,6305,6267,6217,6164,6143,6096,6074,6030,5976,5945,5882,5852,5401,5341,5331,6907,6234,5791,5770,5461,4916,4358,4047]\n",
    "fi_error= 1\n",
    "\n",
    "z = np.polyfit(fi, Lambda, 4)\n",
    "f = np.poly1d(z)\n",
    "f_new = np.linspace(fi[0], fi[-1], 100)\n",
    "l_new = f(f_new)\n",
    "\n",
    "print(f.c) \n",
    "\n",
    "plt.xlabel(\"Theta, grad\")\n",
    "plt.ylabel(\"lambda, angstrem\")\n",
    "plt.scatter(fi, Lambda, s = 1)\n",
    "plt.plot(f_new, l_new, linewidth = 1)\n",
    "plt.grid(True) \n",
    "plt.errorbar(fi, Lambda,xerr = fi_error,fmt='none',ecolor = 'black',elinewidth = 3)\n",
    "\n",
    "fig.savefig('grad.png', dpi = 1000)"
   ]
  }
 ],
 "metadata": {
  "kernelspec": {
   "display_name": "Python 3",
   "language": "python",
   "name": "python3"
  },
  "language_info": {
   "codemirror_mode": {
    "name": "ipython",
    "version": 3
   },
   "file_extension": ".py",
   "mimetype": "text/x-python",
   "name": "python",
   "nbconvert_exporter": "python",
   "pygments_lexer": "ipython3",
   "version": "3.7.4"
  }
 },
 "nbformat": 4,
 "nbformat_minor": 2
}
