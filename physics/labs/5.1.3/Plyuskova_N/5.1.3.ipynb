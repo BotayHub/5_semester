{
 "cells": [
  {
   "cell_type": "code",
   "execution_count": 36,
   "metadata": {},
   "outputs": [],
   "source": [
    "from scipy.optimize import curve_fit \n",
    "import numpy as np\n",
    "import matplotlib.pyplot as plt\n",
    "\n",
    "#данные\n",
    "# Uнакала = 2,52 В\n",
    "V_1=[0.20,0.30,0.43,0.53,0.69,0.58,0.65,0.72,0.78,0.81,0.87,0.89,0.91,0.92,0.94,1.10,1.21,1.43,1.63,1.87,2.08,2.24,2.45,2.67,\n",
    "2.83,3.04,3.27,3.63,4.16,4.51,4.95,5.60,6.08,6.40,7.00,7.82,8.40,8.99,9.67,10.21,11.07,11.60]\n",
    "\n",
    "I_1= [-0.1,-0.6,-0.3,0.9,8.0,2.0,5.2,12.1,23.1,31.0,55.9,67.6,79.7,88.5,104.5,315.2,521.9,1039.9,1419.8,1472.8,1267.2,1102.6,\n",
    "910.7,756.4,664.0,576.4,505.6,417.2,334.9,302.9,271.1,242.6,232.0,237.0,232.0,240.1,254.0,275.1,332.0,395.3,456.0,535.0]\n",
    "V_1_error=[0.01,0.01,0.01,0.01,0.01,0.01,0.01,0.01,0.01,0.01,0.01,0.01,0.01,0.01,0.01,0.01,0.01,0.01,0.01,0.01,0.01,0.01,0.01,\n",
    "0.01,0.01,0.01,0.01,0.01,0.01,0.01,0.01,0.01,0.01,0.1,0.1,0.01,0.01,0.01,0.01,0.01,0.01,0.01]\n",
    "I_1_error= 0.1\n",
    "\n",
    "# Uнакала = 2,85 В\n",
    "\n",
    "V_2=[0.43,0.85,0.99,1.10,1.18,1.26,1.45,1.66,1.82,2.06,2.31,2.55,2.73,3.25,3.61,3.89,4.40,5.04,5.60,6.11,6.75,7.82,8.84,9.54,\n",
    "10.09,10.60,11.10,11.09]\n",
    "\n",
    "I_2= [1.5,127.6,314,530.9,727.7,962.8,1410.5,1731.4,1779.5,1665.9,1482.7,1337.3,1249.3,1056.4,962.1,934.1,831.6,772.6,745.3,\n",
    "735.1,742.1,811,945.8,1064.3,1345.6,1460.6,1604.9,1595.1]\n",
    "V_2_error= 0.01\n",
    "I_2_error= 0.1\n"
   ]
  },
  {
   "cell_type": "code",
   "execution_count": 37,
   "metadata": {},
   "outputs": [
    {
     "data": {
      "image/png": "[encoded data removed]",
      "text/plain": [
       "<Figure size 432x288 with 1 Axes>"
      ]
     },
     "metadata": {
      "needs_background": "light"
     },
     "output_type": "display_data"
    }
   ],
   "source": [
    "fig = plt.figure()\n",
    "\n",
    "#построение графика\n",
    "plt.plot(V_1,I_1,color = 'red', marker ='o',linestyle='None', markersize = 1, label = 'U$_{накала}$ = 2,52 В') #точечный график\n",
    "plt.errorbar(V_1, I_1, yerr = I_1_error, xerr = V_1_error,fmt='none',ecolor = 'black',elinewidth = 1)# полосы погрешностей\n",
    "\n",
    "plt.plot(V_2,I_2,color = 'black', marker ='o',linestyle='None', markersize = 1, label = 'U$_{накала}$ = 2,85 В')\n",
    "plt.errorbar(V_2, I_2, yerr = I_2_error, xerr = V_2_error,fmt='none',ecolor = 'black',elinewidth = 1)# полосы погрешностей\n",
    "#plt.plot(I_bg, y_fit, color = 'red', linewidth = 1, label='-0,051x+0,707') #апроксимирующая прямая\n",
    "\n",
    "#plt.plot(I_t,N_t,color = 'blue', marker ='o',linestyle='None', markersize = 1) #точечный график\n",
    "#plt.plot(f_new, l_new, linewidth = 1)# апроксимация кривой\n",
    "\n",
    "plt.xlabel(\"V, В\")\n",
    "plt.ylabel(\"I,*10$^{-3}$ мкА\")\n",
    "#plt.axis([0, 20.5, 3.3, 8.5])\n",
    "plt.legend() #легенда\n",
    "plt.grid(True) \n",
    "plt.show()\n",
    "fig.savefig('I(V)', dpi = 1000)"
   ]
  },
  {
   "cell_type": "markdown",
   "metadata": {},
   "source": [
    "Строим зависимость Cw(V):"
   ]
  },
  {
   "cell_type": "code",
   "execution_count": 38,
   "metadata": {},
   "outputs": [],
   "source": [
    "#данные\n",
    "\n",
    "# Uнакала = 2,52 В\n",
    "Cw_1 = [7.40,5.22,6.60,5.65,4.80,4.16,3.86,3.27,3.08,2.92,2.81,2.65,1.54,1.04,0.35,0.04,0.00,0.15,0.29,0.48,0.67,0.80,0.94,1.07,\n",
    "1.26,1.48,1.58,1.69,1.80,1.85,1.83,1.85,1.81,1.76,1.68,1.49,1.32,1.17,1.01]\n",
    "V_1=[0.53,0.69,0.58,0.65,0.72,0.78,0.81,0.87,0.89,0.91,0.92,0.94,1.10,1.21,1.43,1.63,1.87,2.08,2.24,2.45,2.67,\n",
    "2.83,3.04,3.27,3.63,4.16,4.51,4.95,5.60,6.08,6.40,7.00,7.82,8.40,8.99,9.67,10.21,11.07,11.60]\n",
    "Cw_1_error = [0.11,0.01,0.05,0.02,0.01,0.00,0.00,0.00,0.00,0.00,0.00,0.00,0.00,0.00,0.00,0.00,0.00,0.00,0.00,0.00,0.00,0.00,\n",
    "0.00,0.00,0.00,0.00,0.00,0.00,0.00,0.00,0.00,0.00,0.00,0.00,0.00,0.00,0.00,0.00,0.00]\n",
    "V_1_error = [0.01,0.01,0.01,0.01,0.01,0.01,0.01,0.01,0.01,0.01,0.01,0.01,0.01,0.01,0.01,0.01,0.01,0.01,0.01,0.01,\n",
    "0.01,0.01,0.01,0.01,0.01,0.01,0.01,0.01,0.01,0.01,0.1,0.1,0.01,0.01,0.01,0.01,0.01,0.01,0.01]\n",
    "\n",
    "# Uнакала = 2,85 В\n",
    "Cw_2 = [7.08,2.64,1.73,1.21,0.89,0.61,0.23,0.03,0.00,0.07,0.18,0.29,0.35,0.52,0.61,0.64,0.76,0.83,0.87,0.88,0.87,0.79,0.63,0.51,\n",
    "0.28,0.20,0.10,0.11]\n",
    "V_2=[0.43,0.85,0.99,1.10,1.18,1.26,1.45,1.66,1.82,2.06,2.31,2.55,2.73,3.25,3.61,3.89,4.40,5.04,5.60,6.11,6.75,7.82,8.84,9.54,\n",
    "10.09,10.60,11.10,11.09]\n",
    "Cw_2_error = [0.07,0.00,0.00,0.00,0.00,0.00,0.00,0.00,0.00,0.00,0.00,0.00,0.00,0.00,0.00,0.00,0.00,0.00,0.00,0.00,0.00,0.00,\n",
    "0.00,0.00,0.00,0.00,0.00,0.00]\n",
    "V_2_error= 0.01"
   ]
  },
  {
   "cell_type": "code",
   "execution_count": 40,
   "metadata": {},
   "outputs": [
    {
     "data": {
      "image/png": "[encoded data removed]",
      "text/plain": [
       "<Figure size 432x288 with 1 Axes>"
      ]
     },
     "metadata": {
      "needs_background": "light"
     },
     "output_type": "display_data"
    }
   ],
   "source": [
    "fig = plt.figure()\n",
    "\n",
    "#построение графика\n",
    "plt.plot(V_1,Cw_1,color = 'red', marker ='o',linestyle='None', markersize = 1, label = 'U$_{накала}$ = 2,52 В') #точечный график\n",
    "plt.errorbar(V_1, Cw_1, yerr = Cw_1_error, xerr = V_1_error,fmt='none',ecolor = 'black',elinewidth = 1)# полосы погрешностей\n",
    "\n",
    "plt.plot(V_2,Cw_2,color = 'black', marker ='o',linestyle='None', markersize = 1, label = 'U$_{накала}$ = 2,85 В')\n",
    "plt.errorbar(V_2, Cw_2, yerr = Cw_2_error, xerr = V_2_error,fmt='none',ecolor = 'black',elinewidth = 1)# полосы погрешностей\n",
    "#plt.plot(I_bg, y_fit, color = 'red', linewidth = 1, label='-0,051x+0,707') #апроксимирующая прямая\n",
    "\n",
    "#plt.plot(I_t,N_t,color = 'blue', marker ='o',linestyle='None', markersize = 1) #точечный график\n",
    "#plt.plot(f_new, l_new, linewidth = 1)# апроксимация кривой\n",
    "\n",
    "plt.xlabel(\"V, В\")\n",
    "plt.ylabel(\"Cw\")\n",
    "#plt.axis([0, 20.5, 3.3, 8.5])\n",
    "plt.legend() #легенда\n",
    "plt.grid(True) \n",
    "plt.show()\n",
    "fig.savefig('Cw(V)', dpi = 1000)"
   ]
  }
 ],
 "metadata": {
  "kernelspec": {
   "display_name": "Python 3",
   "language": "python",
   "name": "python3"
  },
  "language_info": {
   "codemirror_mode": {
    "name": "ipython",
    "version": 3
   },
   "file_extension": ".py",
   "mimetype": "text/x-python",
   "name": "python",
   "nbconvert_exporter": "python",
   "pygments_lexer": "ipython3",
   "version": "3.7.4"
  }
 },
 "nbformat": 4,
 "nbformat_minor": 2
}
