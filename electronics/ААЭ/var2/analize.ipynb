{
 "cells": [
  {
   "cell_type": "code",
   "execution_count": 10,
   "metadata": {},
   "outputs": [],
   "source": [
    "import pandas as pd\n",
    "from matplotlib import pyplot as plt\n",
    "import numpy as np\n",
    "# plt.rc(usetex = True)\n",
    "def poly_plot2(x_data,y_data,x0,x1,ax,c='b',deg=1):\n",
    "    try:\n",
    "        res=np.polyfit(x_data,y_data,deg=deg,cov=True)\n",
    "    except:\n",
    "        res=np.polyfit(x_data,y_data,deg=deg,cov=True)\n",
    "    coeff=res[0]\n",
    "    k_err=[]\n",
    "    i2=0;\n",
    "    for i in res[1]:\n",
    "        k_err.append(np.sqrt(i[i2]))\n",
    "        i2+=1\n",
    "    \n",
    "\n",
    "    \n",
    "    y=[]\n",
    "    x_arr=np.linspace(x0,x1,1000)\n",
    "    n=len(coeff)-1\n",
    "    for x in x_arr:\n",
    "        y_buff=0;\n",
    "        n_buff=n;\n",
    "        for i in coeff:\n",
    "            y_buff+=i*x**n_buff\n",
    "            n_buff-=1\n",
    "        y.append(y_buff)\n",
    "    s='y='\n",
    "    n=deg\n",
    "    for k in coeff:\n",
    "        s+='('+format(k,'.2e')+')'+f'$x^{n}$+'\n",
    "        n-=1\n",
    "        \n",
    "    ax.plot(x_arr,y,c=c,label=s[:-1])\n",
    "    return coeff,k_err\n"
   ]
  },
  {
   "cell_type": "code",
   "execution_count": 11,
   "metadata": {},
   "outputs": [
    {
     "data": {
      "text/html": [
       "<div>\n",
       "<style scoped>\n",
       "    .dataframe tbody tr th:only-of-type {\n",
       "        vertical-align: middle;\n",
       "    }\n",
       "\n",
       "    .dataframe tbody tr th {\n",
       "        vertical-align: top;\n",
       "    }\n",
       "\n",
       "    .dataframe thead th {\n",
       "        text-align: right;\n",
       "    }\n",
       "</style>\n",
       "<table border=\"1\" class=\"dataframe\">\n",
       "  <thead>\n",
       "    <tr style=\"text-align: right;\">\n",
       "      <th></th>\n",
       "      <th>N</th>\n",
       "      <th>U</th>\n",
       "      <th>I</th>\n",
       "    </tr>\n",
       "    <tr>\n",
       "      <th>N</th>\n",
       "      <th></th>\n",
       "      <th></th>\n",
       "      <th></th>\n",
       "    </tr>\n",
       "  </thead>\n",
       "  <tbody>\n",
       "    <tr>\n",
       "      <th>1</th>\n",
       "      <td>1</td>\n",
       "      <td>2500</td>\n",
       "      <td>0.026</td>\n",
       "    </tr>\n",
       "    <tr>\n",
       "      <th>2</th>\n",
       "      <td>2</td>\n",
       "      <td>2650</td>\n",
       "      <td>0.043</td>\n",
       "    </tr>\n",
       "    <tr>\n",
       "      <th>3</th>\n",
       "      <td>3</td>\n",
       "      <td>2800</td>\n",
       "      <td>0.068</td>\n",
       "    </tr>\n",
       "    <tr>\n",
       "      <th>4</th>\n",
       "      <td>4</td>\n",
       "      <td>2950</td>\n",
       "      <td>0.090</td>\n",
       "    </tr>\n",
       "    <tr>\n",
       "      <th>5</th>\n",
       "      <td>5</td>\n",
       "      <td>3100</td>\n",
       "      <td>0.118</td>\n",
       "    </tr>\n",
       "  </tbody>\n",
       "</table>\n",
       "</div>"
      ],
      "text/plain": [
       "   N     U      I\n",
       "N                \n",
       "1  1  2500  0.026\n",
       "2  2  2650  0.043\n",
       "3  3  2800  0.068\n",
       "4  4  2950  0.090\n",
       "5  5  3100  0.118"
      ]
     },
     "execution_count": 11,
     "metadata": {},
     "output_type": "execute_result"
    }
   ],
   "source": [
    "data=pd.read_csv(\"table1.csv\")\n",
    "data.index=data.N\n",
    "# data.I=data.I*1e-3\n",
    "data.rename(columns={\" U\":\"U\"},inplace=True)\n",
    "data.head()\n"
   ]
  },
  {
   "cell_type": "code",
   "execution_count": 38,
   "metadata": {},
   "outputs": [
    {
     "data": {
      "image/png": "[encoded data removed]",
      "text/plain": [
       "<Figure size 864x432 with 1 Axes>"
      ]
     },
     "metadata": {
      "needs_background": "light"
     },
     "output_type": "display_data"
    }
   ],
   "source": [
    "fig,ax= plt.subplots(figsize=(12,6))\n",
    "data.plot(ax=ax,kind='scatter',x=\"U\",y=\"I\",s=20)\n",
    "plt.ylim(0,0.8)\n",
    "plt.xlim(2500,4500)\n",
    "plt.title(\"Вольт-амперная характеристика катода\",size=15)\n",
    "plt.xlabel(\"U,В\",size=15)\n",
    "plt.ylabel(\"I,мА\",size=15)\n",
    "\n",
    "plt.grid()\n",
    "fig.savefig(\"graph1.pdf\")"
   ]
  },
  {
   "cell_type": "code",
   "execution_count": 13,
   "metadata": {},
   "outputs": [
    {
     "data": {
      "text/html": [
       "<div>\n",
       "<style scoped>\n",
       "    .dataframe tbody tr th:only-of-type {\n",
       "        vertical-align: middle;\n",
       "    }\n",
       "\n",
       "    .dataframe tbody tr th {\n",
       "        vertical-align: top;\n",
       "    }\n",
       "\n",
       "    .dataframe thead th {\n",
       "        text-align: right;\n",
       "    }\n",
       "</style>\n",
       "<table border=\"1\" class=\"dataframe\">\n",
       "  <thead>\n",
       "    <tr style=\"text-align: right;\">\n",
       "      <th></th>\n",
       "      <th>N</th>\n",
       "      <th>U</th>\n",
       "      <th>I</th>\n",
       "      <th>ln</th>\n",
       "      <th>1/U</th>\n",
       "    </tr>\n",
       "    <tr>\n",
       "      <th>N</th>\n",
       "      <th></th>\n",
       "      <th></th>\n",
       "      <th></th>\n",
       "      <th></th>\n",
       "      <th></th>\n",
       "    </tr>\n",
       "  </thead>\n",
       "  <tbody>\n",
       "    <tr>\n",
       "      <th>1</th>\n",
       "      <td>1</td>\n",
       "      <td>2500</td>\n",
       "      <td>0.026</td>\n",
       "      <td>-26.205506</td>\n",
       "      <td>0.000400</td>\n",
       "    </tr>\n",
       "    <tr>\n",
       "      <th>2</th>\n",
       "      <td>2</td>\n",
       "      <td>2650</td>\n",
       "      <td>0.043</td>\n",
       "      <td>-25.818940</td>\n",
       "      <td>0.000377</td>\n",
       "    </tr>\n",
       "    <tr>\n",
       "      <th>3</th>\n",
       "      <td>3</td>\n",
       "      <td>2800</td>\n",
       "      <td>0.068</td>\n",
       "      <td>-25.470752</td>\n",
       "      <td>0.000357</td>\n",
       "    </tr>\n",
       "    <tr>\n",
       "      <th>4</th>\n",
       "      <td>4</td>\n",
       "      <td>2950</td>\n",
       "      <td>0.090</td>\n",
       "      <td>-25.294822</td>\n",
       "      <td>0.000339</td>\n",
       "    </tr>\n",
       "    <tr>\n",
       "      <th>5</th>\n",
       "      <td>5</td>\n",
       "      <td>3100</td>\n",
       "      <td>0.118</td>\n",
       "      <td>-25.123141</td>\n",
       "      <td>0.000323</td>\n",
       "    </tr>\n",
       "  </tbody>\n",
       "</table>\n",
       "</div>"
      ],
      "text/plain": [
       "   N     U      I         ln       1/U\n",
       "N                                     \n",
       "1  1  2500  0.026 -26.205506  0.000400\n",
       "2  2  2650  0.043 -25.818940  0.000377\n",
       "3  3  2800  0.068 -25.470752  0.000357\n",
       "4  4  2950  0.090 -25.294822  0.000339\n",
       "5  5  3100  0.118 -25.123141  0.000323"
      ]
     },
     "execution_count": 13,
     "metadata": {},
     "output_type": "execute_result"
    }
   ],
   "source": [
    "data[\"ln\"]=np.log(data.I*1e-3/data.U**2)\n",
    "data[\"1/U\"]=1/data.U\n",
    "data.head()"
   ]
  },
  {
   "cell_type": "code",
   "execution_count": 39,
   "metadata": {},
   "outputs": [
    {
     "data": {
      "image/png": "[encoded data removed]",
      "text/plain": [
       "<Figure size 864x432 with 1 Axes>"
      ]
     },
     "metadata": {
      "needs_background": "light"
     },
     "output_type": "display_data"
    }
   ],
   "source": [
    "fig,ax= plt.subplots(figsize=(12,6))\n",
    "data.plot(ax=ax,kind=\"scatter\",x=\"1/U\",y=\"ln\",label=\"Экспериментальные данные\",c='r')\n",
    "plt.xlim(0.00020,0.00041)\n",
    "plt.ylim(-26.3,-24)\n",
    "coeff=poly_plot2(x_data=data[\"1/U\"],y_data=data[\"ln\"],x0=0.00020,x1=0.00040,ax=ax)\n",
    "ax.minorticks_on()\n",
    "plt.grid()\n",
    "plt.title(\"Вольт-амперная характеристика в координатах Фаулера-Нордгейма\",size=15)\n",
    "plt.xlabel(r\"$\\frac{1}{U[В]}$\",size=20)\n",
    "plt.ylabel(r\"$ln\\frac{I[А]}{U^2[В^2]}$\",size=20)\n",
    "plt.legend()\n",
    "fig.savefig(\"graph2.pdf\")"
   ]
  },
  {
   "cell_type": "code",
   "execution_count": 42,
   "metadata": {},
   "outputs": [
    {
     "name": "stdout",
     "output_type": "stream",
     "text": [
      "0.0005694525149072126\n"
     ]
    }
   ],
   "source": [
    "k=coeff[0][0]\n",
    "phi=4.5\n",
    "beta=-0.683*phi**(3/2)/k\n",
    "print(beta)"
   ]
  },
  {
   "cell_type": "code",
   "execution_count": null,
   "metadata": {},
   "outputs": [],
   "source": []
  },
  {
   "cell_type": "code",
   "execution_count": null,
   "metadata": {},
   "outputs": [],
   "source": []
  },
  {
   "cell_type": "code",
   "execution_count": null,
   "metadata": {},
   "outputs": [],
   "source": []
  }
 ],
 "metadata": {
  "kernelspec": {
   "display_name": "Python 3",
   "language": "python",
   "name": "python3"
  },
  "language_info": {
   "codemirror_mode": {
    "name": "ipython",
    "version": 3
   },
   "file_extension": ".py",
   "mimetype": "text/x-python",
   "name": "python",
   "nbconvert_exporter": "python",
   "pygments_lexer": "ipython3",
   "version": "3.7.1"
  },
  "varInspector": {
   "cols": {
    "lenName": 16,
    "lenType": 16,
    "lenVar": 40
   },
   "kernels_config": {
    "python": {
     "delete_cmd_postfix": "",
     "delete_cmd_prefix": "del ",
     "library": "var_list.py",
     "varRefreshCmd": "print(var_dic_list())"
    },
    "r": {
     "delete_cmd_postfix": ") ",
     "delete_cmd_prefix": "rm(",
     "library": "var_list.r",
     "varRefreshCmd": "cat(var_dic_list()) "
    }
   },
   "types_to_exclude": [
    "module",
    "function",
    "builtin_function_or_method",
    "instance",
    "_Feature"
   ],
   "window_display": false
  }
 },
 "nbformat": 4,
 "nbformat_minor": 2
}
